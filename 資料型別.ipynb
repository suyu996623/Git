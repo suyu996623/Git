{
  "nbformat": 4,
  "nbformat_minor": 0,
  "metadata": {
    "colab": {
      "provenance": [],
      "mount_file_id": "1YFjDjuHwrgImp_2eHaQU8ISZU0xEbziq",
      "authorship_tag": "ABX9TyOe5scHU2/xJOVEwpxQhgdG",
      "include_colab_link": true
    },
    "kernelspec": {
      "name": "python3",
      "display_name": "Python 3"
    },
    "language_info": {
      "name": "python"
    }
  },
  "cells": [
    {
      "cell_type": "markdown",
      "metadata": {
        "id": "view-in-github",
        "colab_type": "text"
      },
      "source": [
        "<a href=\"https://colab.research.google.com/github/suyu996623/Git/blob/main/%E8%B3%87%E6%96%99%E5%9E%8B%E5%88%A5.ipynb\" target=\"_parent\"><img src=\"https://colab.research.google.com/assets/colab-badge.svg\" alt=\"Open In Colab\"/></a>"
      ]
    },
    {
      "cell_type": "markdown",
      "source": [
        "[內建函式](https://docs.python.org/zh-tw/3/library/functions.html)"
      ],
      "metadata": {
        "id": "LrS7Y4_3eaao"
      }
    },
    {
      "cell_type": "markdown",
      "source": [
        "[print](https://docs.python.org/zh-tw/3/library/functions.html#print)"
      ],
      "metadata": {
        "id": "zJ5fwwWcWS5e"
      }
    },
    {
      "cell_type": "markdown",
      "source": [
        "[運算子的優先順序](https://docs.python.org/zh-tw/3/reference/expressions.html#operator-precedence)"
      ],
      "metadata": {
        "id": "m2i16ALWax-O"
      }
    },
    {
      "cell_type": "markdown",
      "source": [
        "[keyword 模組](https://docs.python.org/zh-tw/3/library/keyword.html)"
      ],
      "metadata": {
        "id": "RkI5LjMngM98"
      }
    },
    {
      "cell_type": "markdown",
      "source": [
        "## 考題解析"
      ],
      "metadata": {
        "id": "dtcM89zlkwNT"
      }
    },
    {
      "cell_type": "code",
      "source": [
        "# P.01 字串與整數的不同\n",
        "\n",
        "rooms = {1: 'Foyer', 2: 'Conference Room'}\n",
        "room = input('Enter the room number: ')\n",
        "if not room in rooms:\n",
        "\tprint('Room does not exist.')\n",
        "else:\n",
        "\tprint(\"The room name is \" + rooms[room])\n"
      ],
      "metadata": {
        "id": "B4J8MEFvnFSe",
        "outputId": "a6135b8e-0aba-4822-f567-a6f9012685a0",
        "colab": {
          "base_uri": "https://localhost:8080/"
        }
      },
      "execution_count": null,
      "outputs": [
        {
          "output_type": "stream",
          "name": "stdout",
          "text": [
            "Enter the room number: 1\n",
            "Room does not exist.\n"
          ]
        }
      ]
    },
    {
      "cell_type": "code",
      "source": [
        "# P.02\n",
        "\n",
        "def divide(x, y):\n",
        "    try:\n",
        "        result = x / y\n",
        "    except ZeroDivisionError:\n",
        "        print(\"division by zero!\")\n",
        "    else:\n",
        "        print(\"result is\", result)\n",
        "    finally:\n",
        "        print(\"executing finally clause\")\n",
        "\n",
        "divide(2, 1)\n",
        "#divide(2, 0)\n",
        "#divide(\"2\", \"1\")"
      ],
      "metadata": {
        "id": "_lrTwk9sra2n",
        "colab": {
          "base_uri": "https://localhost:8080/"
        },
        "outputId": "8bd7a581-0a95-43bc-d127-8497fcc5fbdd"
      },
      "execution_count": null,
      "outputs": [
        {
          "output_type": "stream",
          "name": "stdout",
          "text": [
            "result is 2.0\n",
            "executing finally clause\n"
          ]
        }
      ]
    },
    {
      "cell_type": "code",
      "source": [
        "# P.03  日期格式\n",
        "# https://docs.python.org/zh-tw/3/library/datetime.html\n",
        "\n",
        "import datetime\n",
        "d = datetime.datetime(2017, 4, 7)\n",
        "print('{:%B-%d-%y}'.format(d))\n"
      ],
      "metadata": {
        "id": "YANJL3FRqnzj"
      },
      "execution_count": null,
      "outputs": []
    },
    {
      "cell_type": "code",
      "source": [
        "# P.04  檔案的讀取\n",
        "inventory = open(r\"/content/drive/MyDrive/Colab Notebooks/inventory.txt\", 'r')\n",
        "eof = False\n",
        "while eof == False:\n",
        "    line = inventory.readline()\n",
        "    if line != '':\n",
        "        if line != '\\n':\n",
        "            print(line,end='')\n",
        "    else:\n",
        "        print (\"\\nEnd of file\")\n",
        "        eof = True\n",
        "        inventory.close()"
      ],
      "metadata": {
        "id": "1f_t7tsIsWSY"
      },
      "execution_count": null,
      "outputs": []
    },
    {
      "cell_type": "code",
      "source": [
        "# P.05\n",
        "\n",
        "age = 12\n",
        "minor = False\n",
        "name = \"David\"\n",
        "weight = 64.5\n",
        "zip = \"545\"\n"
      ],
      "metadata": {
        "id": "0gVTGzRGk4Jm"
      },
      "execution_count": null,
      "outputs": []
    },
    {
      "cell_type": "code",
      "source": [
        "# P.06 日期資料\n",
        "\n",
        "import datetime\n",
        "dailySpecials=(\"Spaghetti\",\"Macaroni & Cheese\", \"Meatloaf\", \"Fried Chicken\")\n",
        "weekendSpecials=(\"Lobster\",\"Prime Rib\",\"Parmesan-Crusted Cod\")\n",
        "now=datetime.datetime.now()\n",
        "today=now.strftime(\"%A\")\n",
        "print(\"My Healthy Eats Delivery\")\n",
        "if today == \"Friday\" or today ==\"Saturday\" or today ==\"Sunday\":\n",
        "    print(\"The weekend specials include:\")\n",
        "    for item in weekendSpecials:\n",
        "        print(item)\n",
        "else:\n",
        "    print(\"The weekday spcials include: \")\n",
        "    for item in dailySpecials:\n",
        "        print(item)\n",
        "daysLeft=6-now.weekday()\n",
        "print(f\"Pricing specials change in {daysLeft} days\")\n"
      ],
      "metadata": {
        "id": "LUIUOwv2lls0"
      },
      "execution_count": null,
      "outputs": []
    },
    {
      "cell_type": "code",
      "source": [
        "# P.07 多重選擇的寫法\n",
        "#Letter Grade Converter\n",
        "grade = int(input(\"Enter a numeric grade\"))\n",
        "if grade >= 90 :\n",
        "\tletter_grade='A'\n",
        "elif grade >= 80 :\n",
        "\tletter_grade='B'\n",
        "elif grade >= 70 :\n",
        "\tletter_grade='C'\n",
        "elif grade >= 65 :\n",
        "\tletter_grade='D'\n",
        "else :\n",
        "\tletter_grade='F'\n",
        "print(\"Your letter grade is \", letter_grade)\n"
      ],
      "metadata": {
        "id": "5hPaJoAOmssD"
      },
      "execution_count": null,
      "outputs": []
    },
    {
      "cell_type": "code",
      "source": [
        "# P.08  無條件捨去小數"
      ],
      "metadata": {
        "id": "xcScWoRxnA1S"
      },
      "execution_count": null,
      "outputs": []
    },
    {
      "cell_type": "code",
      "source": [
        "# P.09  條件式\n",
        "\n",
        "#DVD Rental Calculator\n",
        "ontime = input(\"Was the video returned before 8 PM? Y or N\").lower()\n",
        "days_rented = int(input(\"How many days was the video rented?\"))\n",
        "weekday = input(\"What day was the video rented?\").capitalize()\n",
        "cost_per_day = 1.59\n",
        "\n",
        "if ontime == 'n':\n",
        "    days_rented +=1\n",
        "\n",
        "\n",
        "if weekday == \"Sunday\":\n",
        "    total = (days_rented * cost_per_day) * 0.7\n",
        "elif weekday == \"Thursday\":\n",
        "    total = (days_rented * cost_per_day) * 0.5\n",
        "else:\n",
        "    total = days_rented * cost_per_day\n",
        "\n",
        "\n",
        "print(\"Cost of the DVD rental is: $\", total)\n"
      ],
      "metadata": {
        "id": "PdolXnaj2h8C"
      },
      "execution_count": null,
      "outputs": []
    },
    {
      "cell_type": "code",
      "source": [
        "# P.10\n",
        "\n",
        "print(\"What is your name?\")\n",
        "name = input()\n",
        "print(name)\n"
      ],
      "metadata": {
        "id": "t5CoDAJDpYwy"
      },
      "execution_count": null,
      "outputs": []
    },
    {
      "cell_type": "code",
      "source": [
        "# P.11\n",
        "\n",
        "total = int(input(\"請輸入總數？\"))"
      ],
      "metadata": {
        "id": "mDkEJJKYqs7u"
      },
      "execution_count": null,
      "outputs": []
    },
    {
      "cell_type": "code",
      "source": [
        "# P.12 函式的設計與呼叫\n",
        "# ●接受清單和字串做為參數。\n",
        "# ●在清單中搜尋字串。\n",
        "# ●如果字串存在清單中,則列印一則訊息,指出找到字串,然後停止逐一查看清單。\n",
        "# ●如果字串不在清單中,則列印一則訊息,指出找不到字串。\n",
        "\n",
        "def search(items, term):\n",
        "    for i in range(len(items)):\n",
        "        if items[i] == term:\n",
        "            print(\"{0} was found in the list.\".format(term))\n",
        "            break\n",
        "    else:\n",
        "        print(\"{0} was not found in the list.\".format(term))\n",
        "\n",
        "search(['A','B','C','D'],'E')"
      ],
      "metadata": {
        "id": "se7D0j5iqBSs"
      },
      "execution_count": null,
      "outputs": []
    },
    {
      "cell_type": "code",
      "source": [
        "# P.13 資料輸入與字串格式化\n",
        "sum1 = count = 0\n",
        "average = 0.0\n",
        "while True:\n",
        "    rating = float(input(\"Enter next rating (1-5, -1 for done)\"))\n",
        "    if rating == -1:\n",
        "        break\n",
        "    sum1 += rating\n",
        "    count += 1\n",
        "average = float(sum1 / count)\n",
        "print(      \"The average star rating for the new coffee is:\"  +   format(average,'.2f')     )\n",
        "\n"
      ],
      "metadata": {
        "id": "qnWP12OusbpH"
      },
      "execution_count": null,
      "outputs": []
    },
    {
      "cell_type": "code",
      "source": [
        "# P.14  雙重選擇與多重選擇\n",
        "grade = 95\n",
        "if 0 <= grade <= 100 :\n",
        "\n",
        "    if grade >= 90 :\n",
        "        print(\"Your grade is A.\")\n",
        "    elif grade >= 80 :\n",
        "        print(\"Your grade is B.\")\n",
        "    elif grade < 80 and  grade > 69 :\n",
        "        print(\"Your grade is C.\")\n",
        "    else :\n",
        "        print(\"Your grade is failing.\")\n",
        "\n",
        "else :\n",
        "    print(\"Invalid grade entered.\")"
      ],
      "metadata": {
        "id": "qTvZt_cQxBVc"
      },
      "execution_count": null,
      "outputs": []
    },
    {
      "cell_type": "code",
      "source": [
        "# P.15 取餘數\n",
        "\n",
        "from random import randint\n",
        "num = randint(1, 100)\n",
        "if num % 2 == 0 :\n",
        "    print(\"%d 是偶數\" % num)\n",
        "else :\n",
        "    print(\"%d 是奇數\" % num)\n"
      ],
      "metadata": {
        "id": "SrF_Y5_q1TRI"
      },
      "execution_count": null,
      "outputs": []
    },
    {
      "cell_type": "code",
      "source": [
        "# P.16  如何去開啟一個檔案來 讀取  資料\n",
        "import os\n",
        "\n",
        "def get_first_line(filename, mode) :\n",
        "\n",
        "    if os.path.isfile(filename) :  # Return True if path is an existing regular file.\n",
        "\n",
        "        with open(filename, mode) as file :\n",
        "\n",
        "            return file.readline()\n",
        "    else:\n",
        "\n",
        "        return None\n",
        "\n",
        "get_first_line(r'/content/drive/MyDrive/Colab Notebooks/inventory.txt', 'r')"
      ],
      "metadata": {
        "id": "wciwZwRR2eGP"
      },
      "execution_count": null,
      "outputs": []
    },
    {
      "cell_type": "code",
      "source": [
        "# P.17\n",
        "\n",
        "list_1 = [1,2]\n",
        "list_2 = [3,4]\n",
        "list_3 = list_1 + list_2\n",
        "list_4 = list_3 * 3\n",
        "print(list_4)"
      ],
      "metadata": {
        "id": "xeVlnQ6QcHOk"
      },
      "execution_count": null,
      "outputs": []
    },
    {
      "cell_type": "code",
      "source": [
        "# P.18  隨機變數如何產生\n",
        "# https://docs.python.org/zh-tw/3/library/random.html\n",
        "\n",
        "import random\n",
        "\n",
        "print(  random.randrange(5, 12, 1)   )\n",
        "print(  random.randint(5, 11)    )\n"
      ],
      "metadata": {
        "id": "oOcVwZmggjIs"
      },
      "execution_count": null,
      "outputs": []
    },
    {
      "cell_type": "code",
      "source": [
        "# P.19 雙迴圈的使用\n",
        "# Displays time tables 2 - 12\n",
        "\n",
        "def times_tables():\n",
        "    for row in range(2,13) :\n",
        "        for col in range(2,13) :\n",
        "            print(row * col, end = \" \")\n",
        "        print()\n",
        "\n",
        "# main\n",
        "times_tables()\n"
      ],
      "metadata": {
        "id": "T_eBAoMy5nfD"
      },
      "execution_count": null,
      "outputs": []
    },
    {
      "cell_type": "code",
      "source": [
        "# P.20  串列的切片\n",
        "\n",
        "list1 = [5,8,3,9,1,3,0,3,6,4,8,7]\n",
        "list1[:-5]"
      ],
      "metadata": {
        "id": "KrBDJi4AjEmH"
      },
      "execution_count": null,
      "outputs": []
    },
    {
      "cell_type": "code",
      "source": [
        "# P.21\n",
        "def print_table(file):\n",
        "    data = open(file,'r')\n",
        "    # print(data)\n",
        "    # iter(data)\n",
        "    for record in data:\n",
        "        #print(record)\n",
        "        fields = record.strip().split(\",\")\n",
        "        print('=========0=========0=========0')\n",
        "        print(\"{0:10}{1:5.1f}{2:7.2f}\".format(fields[0], eval(fields[1]), eval(fields[2])))\n",
        "\n",
        "print_table(r'/content/drive/MyDrive/Colab Notebooks/水果的價格.txt')"
      ],
      "metadata": {
        "id": "uNXirIEw8N5s",
        "colab": {
          "base_uri": "https://localhost:8080/"
        },
        "outputId": "0a1c0a85-cdc4-4ddc-8282-181452739c40"
      },
      "execution_count": null,
      "outputs": [
        {
          "output_type": "stream",
          "name": "stdout",
          "text": [
            "=========0=========0=========0\n",
            "Oranges     5.6   1.33\n",
            "=========0=========0=========0\n",
            "Apples      2.0   0.54\n",
            "=========0=========0=========0\n",
            "Grapes     10.2  10.96\n"
          ]
        }
      ]
    },
    {
      "cell_type": "code",
      "source": [
        "from google.colab import drive\n",
        "drive.mount('/content/drive')"
      ],
      "metadata": {
        "colab": {
          "base_uri": "https://localhost:8080/"
        },
        "id": "pXYikAYc9o8f",
        "outputId": "68cee379-2800-4c4d-a009-d3ccf73d0c9d"
      },
      "execution_count": null,
      "outputs": [
        {
          "output_type": "stream",
          "name": "stdout",
          "text": [
            "Drive already mounted at /content/drive; to attempt to forcibly remount, call drive.mount(\"/content/drive\", force_remount=True).\n"
          ]
        }
      ]
    },
    {
      "cell_type": "code",
      "source": [
        "a = 100\n",
        "iter(a)"
      ],
      "metadata": {
        "colab": {
          "base_uri": "https://localhost:8080/",
          "height": 196
        },
        "id": "XxasGBRw-fn1",
        "outputId": "21ce8f6c-ee47-4c48-ecd0-1ed22d523b2c"
      },
      "execution_count": null,
      "outputs": [
        {
          "output_type": "error",
          "ename": "TypeError",
          "evalue": "ignored",
          "traceback": [
            "\u001b[0;31m---------------------------------------------------------------------------\u001b[0m",
            "\u001b[0;31mTypeError\u001b[0m                                 Traceback (most recent call last)",
            "\u001b[0;32m<ipython-input-5-132aafc638e4>\u001b[0m in \u001b[0;36m<cell line: 2>\u001b[0;34m()\u001b[0m\n\u001b[1;32m      1\u001b[0m \u001b[0ma\u001b[0m \u001b[0;34m=\u001b[0m \u001b[0;36m100\u001b[0m\u001b[0;34m\u001b[0m\u001b[0;34m\u001b[0m\u001b[0m\n\u001b[0;32m----> 2\u001b[0;31m \u001b[0miter\u001b[0m\u001b[0;34m(\u001b[0m\u001b[0ma\u001b[0m\u001b[0;34m)\u001b[0m\u001b[0;34m\u001b[0m\u001b[0;34m\u001b[0m\u001b[0m\n\u001b[0m",
            "\u001b[0;31mTypeError\u001b[0m: 'int' object is not iterable"
          ]
        }
      ]
    },
    {
      "cell_type": "code",
      "source": [
        "# P.22\n",
        "\n",
        "# A. open(\"local_data\", \"w+\")"
      ],
      "metadata": {
        "id": "z0708cmus_2g"
      },
      "execution_count": null,
      "outputs": []
    },
    {
      "cell_type": "code",
      "source": [
        "# P.23  數學模組的數學函式使用\n",
        "# https://docs.python.org/zh-tw/3/library/math.html\n",
        "\n",
        "import math\n",
        "\n",
        "x = -2.876\n",
        "\n",
        "print( math.floor(x) )\n",
        "print( math.fabs(x) )\n"
      ],
      "metadata": {
        "id": "AUAMv5YroCHi",
        "colab": {
          "base_uri": "https://localhost:8080/"
        },
        "outputId": "4cd121d1-6b38-4b54-8ff6-4ec715d14150"
      },
      "execution_count": null,
      "outputs": [
        {
          "output_type": "stream",
          "name": "stdout",
          "text": [
            "-3\n",
            "2.876\n"
          ]
        }
      ]
    },
    {
      "cell_type": "code",
      "source": [
        "# P.24 雙迴圈的使用技巧\n",
        "\n",
        "result_str=\"\"\n",
        "for row in range(1,6):\n",
        "    for column in range(1,5):\n",
        "        if (row==1 or row==3 or row==5):\n",
        "            result_str=result_str+\"*\"\n",
        "        elif column==1:\n",
        "            result_str=result_str+\"*\"\n",
        "    result_str=result_str+\"\\n\"\n",
        "print(result_str)"
      ],
      "metadata": {
        "id": "eS6lLq-3vaT5",
        "colab": {
          "base_uri": "https://localhost:8080/"
        },
        "outputId": "fb4eeb2b-5b84-46f4-9495-bdad5a5f4db4"
      },
      "execution_count": null,
      "outputs": [
        {
          "output_type": "stream",
          "name": "stdout",
          "text": [
            "****\n",
            "*\n",
            "****\n",
            "*\n",
            "****\n",
            "\n"
          ]
        }
      ]
    },
    {
      "cell_type": "code",
      "source": [
        "# P.25 assert方法 英文字要了解即可看出答案"
      ],
      "metadata": {
        "id": "lRtCVYWZrmX-"
      },
      "execution_count": null,
      "outputs": []
    },
    {
      "cell_type": "code",
      "source": [
        "# P.26 多重選擇與條件式\n",
        "\n",
        "def safe_divide(numerator=None, denominator=None):\n",
        "    if numerator is None or denominator is None :\n",
        "        print(\"A required value is missing.\")\n",
        "    elif denominator == 0 :\n",
        "        print(\"The denominator is zero.\")\n",
        "    else :\n",
        "        return numerator / denominator\n",
        "\n",
        "safe_divide(10,5)"
      ],
      "metadata": {
        "id": "gvx-USMbxnqx",
        "colab": {
          "base_uri": "https://localhost:8080/"
        },
        "outputId": "3db42a9b-b879-4089-90d1-096676400dff"
      },
      "execution_count": null,
      "outputs": [
        {
          "output_type": "execute_result",
          "data": {
            "text/plain": [
              "2.0"
            ]
          },
          "metadata": {},
          "execution_count": 10
        }
      ]
    },
    {
      "cell_type": "code",
      "source": [
        "# P.27 巢狀式選擇的寫法\n",
        "\n",
        "def safe_root(a, b):\n",
        "    '''\n",
        "    函式說明\n",
        "    專門處理數值開根號\n",
        "\n",
        "    '''\n",
        "    if a >= 0 :\n",
        "        answer = a ** (1 / b)\n",
        "    else :\n",
        "        if a % 2 == 0 :\n",
        "            answer = \"Result is an imaginary number\"\n",
        "        else :\n",
        "            answer = -(-a) ** (1 / b)\n",
        "\n",
        "    return answer\n",
        "\n",
        "safe_root(27, 3)\n",
        "print(safe_root.__doc__)"
      ],
      "metadata": {
        "id": "6YA9BLys0Hia",
        "colab": {
          "base_uri": "https://localhost:8080/"
        },
        "outputId": "15436680-ac80-48ac-a8a5-6a0cc1c614bd"
      },
      "execution_count": null,
      "outputs": [
        {
          "output_type": "stream",
          "name": "stdout",
          "text": [
            "\n",
            "    函式說明\n",
            "    專門處理數值開根號\n",
            "\n",
            "    \n"
          ]
        }
      ]
    },
    {
      "cell_type": "code",
      "source": [
        "print?"
      ],
      "metadata": {
        "id": "sUPI577gODSo"
      },
      "execution_count": null,
      "outputs": []
    },
    {
      "cell_type": "code",
      "source": [
        "# P.28  算數運算子的優先順序\n",
        "# https://docs.python.org/zh-tw/3/reference/expressions.html#operator-precedence\n",
        "\n",
        "(5 * (1 + 2) ** 2 - 3 + 4 / 2)"
      ],
      "metadata": {
        "id": "aZ7b-kHKrEeL",
        "colab": {
          "base_uri": "https://localhost:8080/"
        },
        "outputId": "f49ab9db-0254-4d7c-a80b-bc2f30256a62"
      },
      "execution_count": null,
      "outputs": [
        {
          "output_type": "execute_result",
          "data": {
            "text/plain": [
              "44.0"
            ]
          },
          "metadata": {},
          "execution_count": 13
        }
      ]
    },
    {
      "cell_type": "code",
      "source": [
        "# P.29\n",
        "\n",
        "numList = [1, 2, 3, 4, 5]\n",
        "alphaList = [\"a\", \"b\", \"c\", \"d\", \"e\"]\n",
        "print(numList is alphaList)\n",
        "print(numList == alphaList)\n",
        "numList = alphaList\n",
        "print(numList is alphaList)\n",
        "print(numList == alphaList)\n"
      ],
      "metadata": {
        "id": "AS5T7vKQ3Prx",
        "colab": {
          "base_uri": "https://localhost:8080/"
        },
        "outputId": "5e76b8c2-0d8a-4325-e5e4-6a105c39409f"
      },
      "execution_count": null,
      "outputs": [
        {
          "output_type": "stream",
          "name": "stdout",
          "text": [
            "False\n",
            "False\n",
            "True\n",
            "True\n"
          ]
        }
      ]
    },
    {
      "cell_type": "code",
      "source": [
        "a = (1,2)\n",
        "b = (1,2)\n",
        "a[0] = 100\n",
        "a"
      ],
      "metadata": {
        "colab": {
          "base_uri": "https://localhost:8080/",
          "height": 230
        },
        "id": "UKETQ35YIFuz",
        "outputId": "5fc9580d-4371-4795-afea-ab58d790a3b0"
      },
      "execution_count": null,
      "outputs": [
        {
          "output_type": "error",
          "ename": "TypeError",
          "evalue": "ignored",
          "traceback": [
            "\u001b[0;31m---------------------------------------------------------------------------\u001b[0m",
            "\u001b[0;31mTypeError\u001b[0m                                 Traceback (most recent call last)",
            "\u001b[0;32m<ipython-input-23-7411bcf28ca6>\u001b[0m in \u001b[0;36m<cell line: 3>\u001b[0;34m()\u001b[0m\n\u001b[1;32m      1\u001b[0m \u001b[0ma\u001b[0m \u001b[0;34m=\u001b[0m \u001b[0;34m(\u001b[0m\u001b[0;36m1\u001b[0m\u001b[0;34m,\u001b[0m\u001b[0;36m2\u001b[0m\u001b[0;34m)\u001b[0m\u001b[0;34m\u001b[0m\u001b[0;34m\u001b[0m\u001b[0m\n\u001b[1;32m      2\u001b[0m \u001b[0mb\u001b[0m \u001b[0;34m=\u001b[0m \u001b[0;34m(\u001b[0m\u001b[0;36m1\u001b[0m\u001b[0;34m,\u001b[0m\u001b[0;36m2\u001b[0m\u001b[0;34m)\u001b[0m\u001b[0;34m\u001b[0m\u001b[0;34m\u001b[0m\u001b[0m\n\u001b[0;32m----> 3\u001b[0;31m \u001b[0ma\u001b[0m\u001b[0;34m[\u001b[0m\u001b[0;36m0\u001b[0m\u001b[0;34m]\u001b[0m \u001b[0;34m=\u001b[0m \u001b[0;36m100\u001b[0m\u001b[0;34m\u001b[0m\u001b[0;34m\u001b[0m\u001b[0m\n\u001b[0m\u001b[1;32m      4\u001b[0m \u001b[0ma\u001b[0m\u001b[0;34m\u001b[0m\u001b[0;34m\u001b[0m\u001b[0m\n",
            "\u001b[0;31mTypeError\u001b[0m: 'tuple' object does not support item assignment"
          ]
        }
      ]
    },
    {
      "cell_type": "code",
      "source": [
        "# P.30  註解的寫法\n",
        "\n",
        "def get_balance():\n",
        "\t# Returns the current balance of the bank account\n",
        "\treturn balance\n"
      ],
      "metadata": {
        "id": "pWvNWUIX6RVK"
      },
      "execution_count": null,
      "outputs": []
    },
    {
      "cell_type": "code",
      "source": [
        "# P.31 條件式迴圈\n",
        "\n",
        "numbers = [0, 1, 2, 3, 4, 5, 6, 7, 8, 9]\n",
        "index = 0\n",
        "\n",
        "while(index < 10) :\n",
        "    print(numbers[index])\n",
        "    if numbers[index] == 6 :\n",
        "        break\n",
        "    else :\n",
        "        index += 1\n"
      ],
      "metadata": {
        "id": "tQCXKeyk6jV5",
        "colab": {
          "base_uri": "https://localhost:8080/"
        },
        "outputId": "ab99bbc1-1275-4a22-be7f-a658eff220b2"
      },
      "execution_count": null,
      "outputs": [
        {
          "output_type": "stream",
          "name": "stdout",
          "text": [
            "0\n",
            "1\n",
            "2\n",
            "3\n",
            "4\n",
            "5\n",
            "6\n"
          ]
        }
      ]
    },
    {
      "cell_type": "code",
      "source": [
        "# P.32  字串的串接與累加運算子 +=\n",
        "\n",
        "a = 'Config1'\n",
        "print(a)\n",
        "b = a\n",
        "a += 'Config2'\n",
        "print(a)\n",
        "print(b)\n"
      ],
      "metadata": {
        "id": "1FdSychYsnFk",
        "colab": {
          "base_uri": "https://localhost:8080/"
        },
        "outputId": "9d794aaf-fa49-4a29-eac9-8ab0530c2159"
      },
      "execution_count": null,
      "outputs": [
        {
          "output_type": "stream",
          "name": "stdout",
          "text": [
            "Config1\n",
            "Config1Config2\n",
            "Config1\n"
          ]
        }
      ]
    },
    {
      "cell_type": "code",
      "source": [
        "# P.33 算數運算子\n",
        "\n",
        "a = 21\n",
        "b = 5\n",
        "print(a / b)\n",
        "print(a // b)\n",
        "print(a % b)\n"
      ],
      "metadata": {
        "id": "Mgze7TnSuaC0",
        "colab": {
          "base_uri": "https://localhost:8080/"
        },
        "outputId": "a324a53b-e318-4b59-d572-a8799355cb9d"
      },
      "execution_count": null,
      "outputs": [
        {
          "output_type": "stream",
          "name": "stdout",
          "text": [
            "4.2\n",
            "4\n",
            "1\n"
          ]
        }
      ]
    },
    {
      "cell_type": "code",
      "source": [
        "# P.34\n",
        "\n",
        "a = 'aaaaaaaa'\n",
        "a"
      ],
      "metadata": {
        "id": "4zqdiCdJ8lhy",
        "colab": {
          "base_uri": "https://localhost:8080/",
          "height": 35
        },
        "outputId": "e54ef911-f21a-4c7d-c746-53fec6e3de26"
      },
      "execution_count": null,
      "outputs": [
        {
          "output_type": "execute_result",
          "data": {
            "text/plain": [
              "'aaaaaaaa'"
            ],
            "application/vnd.google.colaboratory.intrinsic+json": {
              "type": "string"
            }
          },
          "metadata": {},
          "execution_count": 31
        }
      ]
    },
    {
      "cell_type": "code",
      "source": [
        "# P.35 算數運算子的優先順序\n",
        "a= eval(input(\"Enter a number for the question:\"))\n",
        "b=(-a)**2\n",
        "b"
      ],
      "metadata": {
        "id": "E01bF7u4d1Uv",
        "colab": {
          "base_uri": "https://localhost:8080/"
        },
        "outputId": "a887eb4c-bb5d-4732-a992-6e3d979ae715"
      },
      "execution_count": null,
      "outputs": [
        {
          "name": "stdout",
          "output_type": "stream",
          "text": [
            "Enter a number for the question:3\n"
          ]
        },
        {
          "output_type": "execute_result",
          "data": {
            "text/plain": [
              "9"
            ]
          },
          "metadata": {},
          "execution_count": 38
        }
      ]
    },
    {
      "cell_type": "code",
      "source": [
        "# P.36 try 的語法看你會不會"
      ],
      "metadata": {
        "id": "pnKhOMCJr4TU"
      },
      "execution_count": null,
      "outputs": []
    },
    {
      "cell_type": "code",
      "source": [
        "# P.37\n",
        "\n",
        "def roomAssignment(student, year):\n",
        "\t\"\"\"Assign rooms to students\"\"\"\n",
        "\tif year == 1:\n",
        "\t\tprint(f\"\\n{student.title()}, please report to room 115\")\n",
        "\telif year == 2:\n",
        "\t\tprint(f\"\\n{student.title()}, please report to room 210\")\n",
        "\telif year == 3:\n",
        "\t\tprint(f\"\\n{student.title()}, please report to room 320\")\n",
        "\telif year == 4:\n",
        "\t\tprint(f\"\\n{student.title()}, please report to room 405\")\n",
        "\telif year == 5:\n",
        "\t\tprint(f\"\\n{student.title()}, please report to room 515\")\n",
        "\telse:\n",
        "\t\tprint(f\"\\n{student.title()}, please report to room 625\")\n",
        "\n",
        "\n",
        "name = input(\"What is your name?\")\n",
        "grade = 0\n",
        "while grade not in (1,2,3,4,5,6):\n",
        "\tgrade = int(input(\"What grade are you in (1-6)?\"))\n",
        "roomAssignment(name,year=grade)\n",
        "\n",
        "\n",
        "#roomAssignment(\"Sherlock Sassafrass\",4)"
      ],
      "metadata": {
        "id": "RRIYZR0a_iv6",
        "colab": {
          "base_uri": "https://localhost:8080/"
        },
        "outputId": "68a1bb82-8698-4c3a-bb5b-1b9f392832fe"
      },
      "execution_count": null,
      "outputs": [
        {
          "output_type": "stream",
          "name": "stdout",
          "text": [
            "What is your name?suyu\n",
            "What grade are you in (1-6)?4\n",
            "\n",
            "Suyu, please report to room 405\n"
          ]
        }
      ]
    },
    {
      "cell_type": "code",
      "source": [
        "# P.38\n",
        "\n",
        "def petStore(category, species, breed = \"none\"):\n",
        "    \"\"\"Display information about a pet.\"\"\"\n",
        "    print(f\"\\nYou have selected an animal from the {category} category.\")\n",
        "    if breed == \"none\":\n",
        "        print(f\"The {category} you selected is a {species}\")\n",
        "    else:\n",
        "        print(f\"The {category} you selected is a {species} {breed}\")\n",
        "    print(f\"\\nThe {category} would make a great pet!\")\n",
        "\n",
        "category = input(\"What animal category are you interested in?\")\n",
        "species = input(\"What species are they from (canine, feline, Scarlet Macaw, Blue and Gold Macaw?\")\n",
        "\n",
        "if category == \"dog\" or category ==\"cat\":\n",
        "    breed = input(\"What breed are you interested in?\")\n",
        "    petStore(category, species, breed)\n",
        "else:\n",
        "    petStore(category, species)\n",
        "\n",
        "petStore(breed=\"Maltese\",species=\"Canine\", category=\"dog\")\n",
        "petStore(\"bird\",species=\"Scarlet Macaw\")"
      ],
      "metadata": {
        "id": "kvlEvNgK_kbX",
        "colab": {
          "base_uri": "https://localhost:8080/"
        },
        "outputId": "79271adf-d1e9-4de6-ab10-cb374ba4854d"
      },
      "execution_count": null,
      "outputs": [
        {
          "output_type": "stream",
          "name": "stdout",
          "text": [
            "What animal category are you interested in?cat\n",
            "What species are they from (canine, feline, Scarlet Macaw, Blue and Gold Macaw?canine\n",
            "What breed are you interested in?A\n",
            "\n",
            "You have selected an animal from the cat category.\n",
            "The cat you selected is a canine A\n",
            "\n",
            "The cat would make a great pet!\n",
            "\n",
            "You have selected an animal from the dog category.\n",
            "The dog you selected is a Canine Maltese\n",
            "\n",
            "The dog would make a great pet!\n",
            "\n",
            "You have selected an animal from the bird category.\n",
            "The bird you selected is a Scarlet Macaw\n",
            "\n",
            "The bird would make a great pet!\n"
          ]
        }
      ]
    },
    {
      "cell_type": "code",
      "source": [
        "# P.39 資料型別的認識\n",
        "print( type(+1E10)  )\n",
        "print( type(5.0)    )\n",
        "print( type(\"True\") )\n",
        "print( type(True)  )\n"
      ],
      "metadata": {
        "id": "qo5tCqykd38g",
        "colab": {
          "base_uri": "https://localhost:8080/"
        },
        "outputId": "8325a68c-7e52-4343-ddfc-6dc1f37f5634"
      },
      "execution_count": null,
      "outputs": [
        {
          "output_type": "stream",
          "name": "stdout",
          "text": [
            "<class 'float'>\n",
            "<class 'float'>\n",
            "<class 'str'>\n",
            "<class 'bool'>\n"
          ]
        }
      ]
    },
    {
      "cell_type": "code",
      "source": [
        "# P.40\n",
        "\n",
        "def calc_power(a, b):\n",
        "    return a**b\n",
        "base = eval(input(\"Enter the number for the base:\"))\n",
        "exponent = eval(input(\"Enter the number for the exponent:\"))\n",
        "result = calc_power(base, exponent)\n",
        "print(\"The result is \" + str(result))"
      ],
      "metadata": {
        "id": "SX_FG14eyH2B",
        "colab": {
          "base_uri": "https://localhost:8080/"
        },
        "outputId": "28046e0a-d940-4c9c-f9e5-2430916c933a"
      },
      "execution_count": null,
      "outputs": [
        {
          "output_type": "stream",
          "name": "stdout",
          "text": [
            "Enter the number for the base:2\n",
            "Enter the number for the exponent:3\n",
            "The result is 8\n"
          ]
        }
      ]
    },
    {
      "cell_type": "code",
      "source": [
        "a = 10\n",
        "b = 5\n",
        "eval('a/b')"
      ],
      "metadata": {
        "colab": {
          "base_uri": "https://localhost:8080/"
        },
        "id": "VeGCOkT9TTkg",
        "outputId": "6efcc280-f66f-462d-85c9-cbcc6a5d8af7"
      },
      "execution_count": null,
      "outputs": [
        {
          "output_type": "execute_result",
          "data": {
            "text/plain": [
              "2.0"
            ]
          },
          "metadata": {},
          "execution_count": 45
        }
      ]
    },
    {
      "cell_type": "code",
      "source": [
        "# P.41\n",
        "def increment_score(score, bonus, points=1) :\n",
        "    if bonus == True :\n",
        "        points = points * 2\n",
        "    score = score + points\n",
        "    return score\n",
        "\n",
        "points = 5\n",
        "score = 10\n",
        "new_score = increment_score(score, True,points)\n",
        "new_score"
      ],
      "metadata": {
        "id": "g8bjFRFA0t03",
        "colab": {
          "base_uri": "https://localhost:8080/"
        },
        "outputId": "efae5faf-8231-4a39-b93e-84aa9139bf3a"
      },
      "execution_count": null,
      "outputs": [
        {
          "output_type": "execute_result",
          "data": {
            "text/plain": [
              "20"
            ]
          },
          "metadata": {},
          "execution_count": 48
        }
      ]
    },
    {
      "cell_type": "code",
      "source": [
        "# P.42 比較運算子 in , not in\n",
        "slist = ['a', 'b', 'c', 'd', 'e', 'f']\n",
        "print('f' in slist)\n"
      ],
      "metadata": {
        "id": "iv0hZ6TYeDiW",
        "colab": {
          "base_uri": "https://localhost:8080/"
        },
        "outputId": "1713946a-8b8f-41ad-b6f3-d946e47acbcb"
      },
      "execution_count": null,
      "outputs": [
        {
          "output_type": "stream",
          "name": "stdout",
          "text": [
            "True\n"
          ]
        }
      ]
    },
    {
      "cell_type": "code",
      "source": [
        "# P.43\n",
        "\n",
        "#employee_number =\"\"\n",
        "employee_number =\"123\"\n",
        "\n",
        "parts=\"\"\n",
        "\n",
        "while employee_number !=\"\" :\n",
        "#while employee_number !=\"123\" :\n",
        "    valid = False\n",
        "    #valid = True\n",
        "    employee_number = input(\"Enter employee number (ddd-dd-dddd): \")\n",
        "    parts = employee_number.split('-')\n",
        "    if len(parts) == 3:\n",
        "        if len(parts[0]) == 3 and len(parts[1]) == 2 and len(parts[2]) == 4:\n",
        "            if parts[0].isdigit() and parts[1].isdigit() and parts[2].isdigit():\n",
        "                #valid= False\n",
        "                valid = True\n",
        "    print(valid)"
      ],
      "metadata": {
        "id": "esI176HG3yUM",
        "colab": {
          "base_uri": "https://localhost:8080/"
        },
        "outputId": "4f587604-e558-4e69-bf9e-5cd68fafc556"
      },
      "execution_count": null,
      "outputs": [
        {
          "output_type": "stream",
          "name": "stdout",
          "text": [
            "Enter employee number (ddd-dd-dddd): \n",
            "False\n"
          ]
        }
      ]
    },
    {
      "cell_type": "code",
      "source": [
        "# P.44\n",
        "\n",
        "productIdList = [0, 1, 2, 3, 4, 5, 6, 7, 8, 9]\n",
        "index = 0\n",
        "\n",
        "while(index < 10):\n",
        "    print(productIdList[index])\n",
        "    if productIdList[index] == 6:\n",
        "        break\n",
        "    else:\n",
        "        index +=1\n",
        "\n"
      ],
      "metadata": {
        "id": "woR9H4Bl6b27",
        "colab": {
          "base_uri": "https://localhost:8080/"
        },
        "outputId": "957ab4a7-bd36-4b6a-97fd-b4fd20f8b195"
      },
      "execution_count": null,
      "outputs": [
        {
          "output_type": "stream",
          "name": "stdout",
          "text": [
            "0\n",
            "1\n",
            "2\n",
            "3\n",
            "4\n",
            "5\n",
            "6\n"
          ]
        }
      ]
    },
    {
      "cell_type": "code",
      "source": [
        "# P.45 字串格式化\n",
        "\n",
        "item = input (\"Enter the item name: \")\n",
        "sales = input (\"Enter the quantity: \")\n",
        "print( '\"' + item + '\",'+sales)\n",
        "print( '\"{0}\",{1}'.format(item, sales)                        )"
      ],
      "metadata": {
        "id": "uzBYaw0eeJre",
        "colab": {
          "base_uri": "https://localhost:8080/"
        },
        "outputId": "41760724-cc5f-4615-df9c-d399ace8883d"
      },
      "execution_count": null,
      "outputs": [
        {
          "output_type": "stream",
          "name": "stdout",
          "text": [
            "Enter the item name: suyu\n",
            "Enter the quantity: 100\n",
            "\"suyu\",100\n",
            "\"suyu\",100\n"
          ]
        }
      ]
    },
    {
      "cell_type": "code",
      "source": [
        "# P.46\n",
        "product = 2\n",
        "n = 5\n",
        "while (n != 0):\n",
        "    product *= n\n",
        "    print(product)\n",
        "    n -= 1\n",
        "    if n == 3 : break"
      ],
      "metadata": {
        "id": "E4N1FFKp9QLX",
        "colab": {
          "base_uri": "https://localhost:8080/"
        },
        "outputId": "76f40dc9-366b-4efd-f5bd-28bab25dd35f"
      },
      "execution_count": null,
      "outputs": [
        {
          "output_type": "stream",
          "name": "stdout",
          "text": [
            "10\n",
            "40\n"
          ]
        }
      ]
    },
    {
      "cell_type": "code",
      "source": [
        "# P.47\n",
        "\n",
        "def grosspay(hours=40,rate=25,pieces=0,piecerate=0,salary=0):\n",
        "\n",
        "    overtime=0\n",
        "\n",
        "    if pieces > 0:\n",
        "        return pieces * piecerate\n",
        "\n",
        "    if salary > 0:\n",
        "        pass\n",
        "\n",
        "    if hours > 40:\n",
        "        overtime = (hours-40) * (1.5 * rate)\n",
        "        return overtime + (40 * rate)\n",
        "    else:\n",
        "        return hours * rate\n",
        "\n",
        "grosspay(pieces=500, piecerate=4)"
      ],
      "metadata": {
        "id": "n2X5Gu5Y-Ztl",
        "colab": {
          "base_uri": "https://localhost:8080/"
        },
        "outputId": "b67b43d1-6d05-4e8d-a0a6-ef08e6d9bcff"
      },
      "execution_count": null,
      "outputs": [
        {
          "output_type": "execute_result",
          "data": {
            "text/plain": [
              "2000"
            ]
          },
          "metadata": {},
          "execution_count": 55
        }
      ]
    },
    {
      "cell_type": "code",
      "source": [
        "# P.48\n",
        "num = int(input(\"Enter a number with 1 or 2 digits: \"))\n",
        "\n",
        "digits = \"0\"\n",
        "\n",
        "if num > -10 and num < 10 :\n",
        "    digits = \"1\"\n",
        "elif num > -100 and num < 100 :\n",
        "    digits = \"2\"\n",
        "else :\n",
        "    digits = \">2\"\n",
        "\n",
        "print(digits + \" digits.\")\n"
      ],
      "metadata": {
        "id": "3ZjgHi7cAX_I",
        "colab": {
          "base_uri": "https://localhost:8080/"
        },
        "outputId": "60264088-ec96-412b-c640-2f2f2a3d7207"
      },
      "execution_count": null,
      "outputs": [
        {
          "output_type": "stream",
          "name": "stdout",
          "text": [
            "Enter a number with 1 or 2 digits: 400\n",
            ">2 digits.\n"
          ]
        }
      ]
    },
    {
      "cell_type": "code",
      "source": [
        "# P.49\n",
        "\n",
        "from random import randint\n",
        "\n",
        "target = randint(1, 10)\n",
        "chance = 1\n",
        "print(\"Guess an integer from 1 to 10. You will have 3 chances. \")\n",
        "\n",
        "while chance <= 3:\n",
        "\n",
        "    guess = int(input(\"Guess an integer: \"))\n",
        "\n",
        "    if guess > target:\n",
        "        print(\"Guess is too high\")\n",
        "    elif guess < target:\n",
        "        print(\"Guess is too low\")\n",
        "    else:\n",
        "        print(\"Guess is just right!\")\n",
        "        break\n",
        "\n",
        "    chance += 1"
      ],
      "metadata": {
        "id": "0kXtJagOBsVz",
        "colab": {
          "base_uri": "https://localhost:8080/"
        },
        "outputId": "a3dc9f84-56a2-4cf0-a7fe-d01264a000d8"
      },
      "execution_count": null,
      "outputs": [
        {
          "output_type": "stream",
          "name": "stdout",
          "text": [
            "Guess an integer from 1 to 10. You will have 3 chances. \n",
            "Guess an integer: 6\n",
            "Guess is too low\n",
            "Guess an integer: 8\n",
            "Guess is just right!\n"
          ]
        }
      ]
    },
    {
      "cell_type": "code",
      "source": [
        "# P.50 考變數的資料型態\n",
        "age = input(\"Enter your age: \")\n",
        "year = input(\"Enter the four-digit year: \")\n",
        "born = eval(year) - eval(age)\n",
        "message = \"You were born in \" + str(born)\n",
        "print(message)\n",
        "type(born)"
      ],
      "metadata": {
        "id": "qkj1EzTKeSZJ",
        "colab": {
          "base_uri": "https://localhost:8080/"
        },
        "outputId": "f83f5425-42ce-4d1f-c12c-9a8348815ea6"
      },
      "execution_count": null,
      "outputs": [
        {
          "output_type": "stream",
          "name": "stdout",
          "text": [
            "Enter your age: 50\n",
            "Enter the four-digit year: 2023\n",
            "You were born in 1973\n"
          ]
        },
        {
          "output_type": "execute_result",
          "data": {
            "text/plain": [
              "int"
            ]
          },
          "metadata": {},
          "execution_count": 59
        }
      ]
    },
    {
      "cell_type": "code",
      "source": [
        "# P.51 算數運算子\n",
        "\n",
        "value1 = 24\n",
        "value2 = 7\n",
        "value3 = 17.9\n",
        "\n",
        "answer = (value1 % value2 *100) // 2.0 ** 3.0 - value2\n",
        "print(answer)\n"
      ],
      "metadata": {
        "id": "bbMRDybSeXVe",
        "colab": {
          "base_uri": "https://localhost:8080/"
        },
        "outputId": "5535cd8e-cc3d-45bb-ecef-2b34ace133c1"
      },
      "execution_count": null,
      "outputs": [
        {
          "output_type": "stream",
          "name": "stdout",
          "text": [
            "30.0\n"
          ]
        }
      ]
    },
    {
      "cell_type": "code",
      "source": [
        "# P.52\n",
        "\n",
        "def read_file(file):\n",
        "    line = None\n",
        "    if os.path.isfile(file):  #  os 模組尚未載入\n",
        "        data = open(file, 'r')\n",
        "        for line in data:\n",
        "            print(line)\n",
        "\n",
        "read_file('file')"
      ],
      "metadata": {
        "id": "iAyY_UvoFU88",
        "colab": {
          "base_uri": "https://localhost:8080/",
          "height": 334
        },
        "outputId": "04391b0d-486f-411b-c175-2565194a6d3e"
      },
      "execution_count": null,
      "outputs": [
        {
          "output_type": "error",
          "ename": "NameError",
          "evalue": "ignored",
          "traceback": [
            "\u001b[0;31m---------------------------------------------------------------------------\u001b[0m",
            "\u001b[0;31mNameError\u001b[0m                                 Traceback (most recent call last)",
            "\u001b[0;32m<ipython-input-61-ee7673cfc7c3>\u001b[0m in \u001b[0;36m<cell line: 10>\u001b[0;34m()\u001b[0m\n\u001b[1;32m      8\u001b[0m             \u001b[0mprint\u001b[0m\u001b[0;34m(\u001b[0m\u001b[0mline\u001b[0m\u001b[0;34m)\u001b[0m\u001b[0;34m\u001b[0m\u001b[0;34m\u001b[0m\u001b[0m\n\u001b[1;32m      9\u001b[0m \u001b[0;34m\u001b[0m\u001b[0m\n\u001b[0;32m---> 10\u001b[0;31m \u001b[0mread_file\u001b[0m\u001b[0;34m(\u001b[0m\u001b[0;34m'file'\u001b[0m\u001b[0;34m)\u001b[0m\u001b[0;34m\u001b[0m\u001b[0;34m\u001b[0m\u001b[0m\n\u001b[0m",
            "\u001b[0;32m<ipython-input-61-ee7673cfc7c3>\u001b[0m in \u001b[0;36mread_file\u001b[0;34m(file)\u001b[0m\n\u001b[1;32m      3\u001b[0m \u001b[0;32mdef\u001b[0m \u001b[0mread_file\u001b[0m\u001b[0;34m(\u001b[0m\u001b[0mfile\u001b[0m\u001b[0;34m)\u001b[0m\u001b[0;34m:\u001b[0m\u001b[0;34m\u001b[0m\u001b[0;34m\u001b[0m\u001b[0m\n\u001b[1;32m      4\u001b[0m     \u001b[0mline\u001b[0m \u001b[0;34m=\u001b[0m \u001b[0;32mNone\u001b[0m\u001b[0;34m\u001b[0m\u001b[0;34m\u001b[0m\u001b[0m\n\u001b[0;32m----> 5\u001b[0;31m     \u001b[0;32mif\u001b[0m \u001b[0mos\u001b[0m\u001b[0;34m.\u001b[0m\u001b[0mpath\u001b[0m\u001b[0;34m.\u001b[0m\u001b[0misfile\u001b[0m\u001b[0;34m(\u001b[0m\u001b[0mfile\u001b[0m\u001b[0;34m)\u001b[0m\u001b[0;34m:\u001b[0m  \u001b[0;31m#  os 模組尚未載入\u001b[0m\u001b[0;34m\u001b[0m\u001b[0;34m\u001b[0m\u001b[0m\n\u001b[0m\u001b[1;32m      6\u001b[0m         \u001b[0mdata\u001b[0m \u001b[0;34m=\u001b[0m \u001b[0mopen\u001b[0m\u001b[0;34m(\u001b[0m\u001b[0mfile\u001b[0m\u001b[0;34m,\u001b[0m \u001b[0;34m'r'\u001b[0m\u001b[0;34m)\u001b[0m\u001b[0;34m\u001b[0m\u001b[0;34m\u001b[0m\u001b[0m\n\u001b[1;32m      7\u001b[0m         \u001b[0;32mfor\u001b[0m \u001b[0mline\u001b[0m \u001b[0;32min\u001b[0m \u001b[0mdata\u001b[0m\u001b[0;34m:\u001b[0m\u001b[0;34m\u001b[0m\u001b[0;34m\u001b[0m\u001b[0m\n",
            "\u001b[0;31mNameError\u001b[0m: name 'os' is not defined"
          ]
        }
      ]
    },
    {
      "cell_type": "code",
      "source": [
        "# P.53\n",
        "name = input(\"Enter your name: \")\n",
        "\n",
        "if name.lower() == name:\n",
        "    print(name, \"is all lower case.\")\n",
        "elif name.upper() == name:\n",
        "    print(name, \"is all upper case.\")\n",
        "else:\n",
        "    print(name, \"is mixed case.\")"
      ],
      "metadata": {
        "id": "xGMjhi5XDgBy",
        "colab": {
          "base_uri": "https://localhost:8080/"
        },
        "outputId": "9464e3ba-3518-425d-d8ee-0161c7a45436"
      },
      "execution_count": null,
      "outputs": [
        {
          "output_type": "stream",
          "name": "stdout",
          "text": [
            "Enter your name: suyu\n",
            "suyu is all lower case.\n"
          ]
        }
      ]
    },
    {
      "cell_type": "code",
      "source": [
        "# P.54 字串切片\n",
        "\n",
        "alph = \"abcdefghijklmnopqrstuvwxyz\"\n",
        "alph[3:15]\n",
        "alph[3:15:3]\n",
        "alph[15:3:-3]\n",
        "print( alph[::-3] )\n"
      ],
      "metadata": {
        "id": "a5s0bNX4eeHF",
        "colab": {
          "base_uri": "https://localhost:8080/"
        },
        "outputId": "1de3e472-2bc9-4f04-bf27-1f3015898a39"
      },
      "execution_count": null,
      "outputs": [
        {
          "output_type": "stream",
          "name": "stdout",
          "text": [
            "zwtqnkheb\n"
          ]
        }
      ]
    },
    {
      "cell_type": "code",
      "source": [
        "# P.55\n",
        "\n",
        "def admission_fee(age, school) :\n",
        "\n",
        "    rate = 0\n",
        "\n",
        "    if age >= 5 and school == True :\n",
        "\n",
        "        rate = 10\n",
        "\n",
        "    elif age >=5 and school == False :\n",
        "\n",
        "        if age <= 17 :\n",
        "\n",
        "            rate = 20\n",
        "\n",
        "        else :\n",
        "\n",
        "            rate = 50\n",
        "\n",
        "    return rate\n",
        "\n",
        "print( admission_fee(10, False) )"
      ],
      "metadata": {
        "id": "EaOQBPOwFhid",
        "colab": {
          "base_uri": "https://localhost:8080/"
        },
        "outputId": "c64aff6e-b32f-4e8d-8f9c-8c7d53e17253"
      },
      "execution_count": null,
      "outputs": [
        {
          "output_type": "stream",
          "name": "stdout",
          "text": [
            "20\n"
          ]
        }
      ]
    },
    {
      "cell_type": "code",
      "source": [
        "# P.56  固定次數迴圈與中途返回\n",
        "salary_list = [90000,160000,120000]\n",
        "\n",
        "for index in range(len(salary_list)):\n",
        "\tif salary_list[index] >= 150000:\n",
        "\t\tcontinue\n",
        "\tsalary_list[index] = (salary_list[index] *1.03) +500\n",
        "\n",
        "salary_list"
      ],
      "metadata": {
        "id": "RGa00Dj5sHV-",
        "colab": {
          "base_uri": "https://localhost:8080/"
        },
        "outputId": "d9489591-7a74-4f74-c993-a16bf8280fd7"
      },
      "execution_count": null,
      "outputs": [
        {
          "output_type": "execute_result",
          "data": {
            "text/plain": [
              "[93200.0, 160000, 124100.0]"
            ]
          },
          "metadata": {},
          "execution_count": 3
        }
      ]
    },
    {
      "cell_type": "code",
      "source": [
        "# P.57  開檔\n",
        "\n",
        "import os\n",
        "if os.path.isfile('/content/drive/MyDrive/Colab Notebooks/水果的價格.txt'):\n",
        "\tfile = open('/content/drive/MyDrive/Colab Notebooks/水果的價格.txt')\n",
        "\tprint(file.read())\n",
        "\tfile.close()\n"
      ],
      "metadata": {
        "id": "je4jJmlXsKPi",
        "colab": {
          "base_uri": "https://localhost:8080/"
        },
        "outputId": "647abf25-eb81-4aa4-be5a-34ace1bc00ff"
      },
      "execution_count": null,
      "outputs": [
        {
          "output_type": "stream",
          "name": "stdout",
          "text": [
            "Oranges,5.6,1.33\n",
            "Apples,2.0,0.54\n",
            "Grapes,10.2,10.96\n",
            "\n"
          ]
        }
      ]
    },
    {
      "cell_type": "code",
      "source": [
        "# P.58  隨機變數產生資料的方法\n",
        "\n",
        "from random import randint\n",
        "print(randint(1, 20) * 5)\n",
        "\n",
        "from random import randrange\n",
        "print(randrange(5, 105, 5))\n"
      ],
      "metadata": {
        "id": "QFjxuDTpsMpn",
        "colab": {
          "base_uri": "https://localhost:8080/"
        },
        "outputId": "37d5b5c2-2df3-441e-a0af-693315002461"
      },
      "execution_count": null,
      "outputs": [
        {
          "output_type": "stream",
          "name": "stdout",
          "text": [
            "55\n",
            "20\n"
          ]
        }
      ]
    },
    {
      "cell_type": "code",
      "source": [
        "# P.59  固定次數迴圈\n",
        "\n",
        "employee_pay = [15000, 120000, 35000, 45000]\n",
        "count = 0\n",
        "sum = 0\n",
        "\n",
        "for index in range(len(employee_pay)):\n",
        "\tcount += 1\n",
        "\tsum += employee_pay[index]\n",
        "\n",
        "average = sum/count\n",
        "print(\"The total payroll is:\", sum)\n",
        "print(\"The average salary is:\", average)"
      ],
      "metadata": {
        "id": "x6VkcsdpsOtY",
        "colab": {
          "base_uri": "https://localhost:8080/"
        },
        "outputId": "af4ed914-ab39-4388-fcc6-2eec34692765"
      },
      "execution_count": null,
      "outputs": [
        {
          "output_type": "stream",
          "name": "stdout",
          "text": [
            "The total payroll is: 215000\n",
            "The average salary is: 53750.0\n"
          ]
        }
      ]
    },
    {
      "cell_type": "code",
      "source": [
        "# P.60  固定次數迴圈\n",
        "\n",
        "def count_letter(letter, word_list):\n",
        "\tcount = 0\n",
        "\tfor word in word_list:\n",
        "\t\tif letter in word:\n",
        "\t\t\tcount += 1\n",
        "\treturn count\n",
        "\n",
        "word_list = [\"which\",\"letter\",\"would\",\"you\",\"like\",\"to\",\"count\"]\n",
        "letter = input(\"which letter would you like to count\")\n",
        "letter_count = count_letter(letter, word_list)\n",
        "print(\"There are: \", letter_count, \"instances of \" + letter)\n"
      ],
      "metadata": {
        "id": "_CisHd2ysQ04",
        "colab": {
          "base_uri": "https://localhost:8080/"
        },
        "outputId": "92fffaae-f4b3-49a9-cfd3-573174b8cef5"
      },
      "execution_count": null,
      "outputs": [
        {
          "output_type": "stream",
          "name": "stdout",
          "text": [
            "which letter would you like to countt\n",
            "There are:  3 instances of t\n"
          ]
        }
      ]
    },
    {
      "cell_type": "code",
      "source": [
        "# P.61  背下來 https://docs.python.org/zh-tw/3/library/unittest.html\n",
        "\n",
        "import\tunittest\n",
        "class TestIsInstance( unittest.TestCase ):\n",
        "\tdef\ttest_isInstance(self):\n",
        "\t\tself.assertIsInstance(obj, cls, msg=None)\n",
        "if __name__ == '__main__':\n",
        "\tunittest.main()\n"
      ],
      "metadata": {
        "id": "UVfA_KSTsSvz",
        "colab": {
          "base_uri": "https://localhost:8080/",
          "height": 334
        },
        "outputId": "225f7ea1-9234-43c7-eb8b-a567f1c6aa96"
      },
      "execution_count": null,
      "outputs": [
        {
          "output_type": "stream",
          "name": "stderr",
          "text": [
            "E\n",
            "======================================================================\n",
            "ERROR: /root/ (unittest.loader._FailedTest)\n",
            "----------------------------------------------------------------------\n",
            "AttributeError: module '__main__' has no attribute '/root/'\n",
            "\n",
            "----------------------------------------------------------------------\n",
            "Ran 1 test in 0.001s\n",
            "\n",
            "FAILED (errors=1)\n"
          ]
        },
        {
          "output_type": "error",
          "ename": "SystemExit",
          "evalue": "ignored",
          "traceback": [
            "An exception has occurred, use %tb to see the full traceback.\n",
            "\u001b[0;31mSystemExit\u001b[0m\u001b[0;31m:\u001b[0m True\n"
          ]
        },
        {
          "output_type": "stream",
          "name": "stderr",
          "text": [
            "/usr/local/lib/python3.10/dist-packages/IPython/core/interactiveshell.py:3561: UserWarning: To exit: use 'exit', 'quit', or Ctrl-D.\n",
            "  warn(\"To exit: use 'exit', 'quit', or Ctrl-D.\", stacklevel=1)\n"
          ]
        }
      ]
    },
    {
      "cell_type": "code",
      "source": [
        "import unittest\n",
        "\n",
        "class TestStringMethods(unittest.TestCase):\n",
        "\n",
        "    def test_upper(self):\n",
        "        self.assertEqual('foo'.upper(), 'FOO')\n",
        "\n",
        "    def test_isupper(self):\n",
        "        self.assertTrue('FOO'.isupper())\n",
        "        self.assertFalse('Foo'.isupper())\n",
        "\n",
        "    def test_split(self):\n",
        "        s = 'hello world'\n",
        "        self.assertEqual(s.split(), ['hello', 'world'])\n",
        "        # check that s.split fails when the separator is not a string\n",
        "        with self.assertRaises(TypeError):\n",
        "            s.split(2)\n",
        "\n",
        "if __name__ == '__main__':\n",
        "    unittest.main()"
      ],
      "metadata": {
        "id": "dqP57-OLj1ep",
        "outputId": "7ab4539b-b982-421a-a8ec-2e4c6c9a34d8",
        "colab": {
          "base_uri": "https://localhost:8080/",
          "height": 334
        }
      },
      "execution_count": null,
      "outputs": [
        {
          "output_type": "stream",
          "name": "stderr",
          "text": [
            "E\n",
            "======================================================================\n",
            "ERROR: /root/ (unittest.loader._FailedTest)\n",
            "----------------------------------------------------------------------\n",
            "AttributeError: module '__main__' has no attribute '/root/'\n",
            "\n",
            "----------------------------------------------------------------------\n",
            "Ran 1 test in 0.003s\n",
            "\n",
            "FAILED (errors=1)\n"
          ]
        },
        {
          "output_type": "error",
          "ename": "SystemExit",
          "evalue": "ignored",
          "traceback": [
            "An exception has occurred, use %tb to see the full traceback.\n",
            "\u001b[0;31mSystemExit\u001b[0m\u001b[0;31m:\u001b[0m True\n"
          ]
        },
        {
          "output_type": "stream",
          "name": "stderr",
          "text": [
            "/usr/local/lib/python3.10/dist-packages/IPython/core/interactiveshell.py:3561: UserWarning: To exit: use 'exit', 'quit', or Ctrl-D.\n",
            "  warn(\"To exit: use 'exit', 'quit', or Ctrl-D.\", stacklevel=1)\n"
          ]
        }
      ]
    },
    {
      "cell_type": "code",
      "source": [
        "# P.62  隨機變數的使用"
      ],
      "metadata": {
        "id": "QnIVWTUmsUVJ"
      },
      "execution_count": null,
      "outputs": []
    },
    {
      "cell_type": "code",
      "source": [
        "# P.63  最麻煩的一題，背下來"
      ],
      "metadata": {
        "id": "Sb35gEScsWNN"
      },
      "execution_count": null,
      "outputs": []
    },
    {
      "cell_type": "code",
      "source": [
        "# P.64  程式註解的寫法"
      ],
      "metadata": {
        "id": "Q9X1P6insYWK"
      },
      "execution_count": null,
      "outputs": []
    },
    {
      "cell_type": "code",
      "source": [
        "# P.65 input 函式  註解怎麼用"
      ],
      "metadata": {
        "id": "krCzAaDjetbd"
      },
      "execution_count": null,
      "outputs": []
    },
    {
      "cell_type": "code",
      "source": [
        "# P.66  迴圈的條件與索引編號"
      ],
      "metadata": {
        "id": "YZWpT9ibscCE"
      },
      "execution_count": null,
      "outputs": []
    },
    {
      "cell_type": "code",
      "source": [
        "# P.67  函式參數的定義"
      ],
      "metadata": {
        "id": "7Uf31CCnsdf1"
      },
      "execution_count": null,
      "outputs": []
    },
    {
      "cell_type": "code",
      "source": [
        "# P.68  input 函式  註解怎麼用"
      ],
      "metadata": {
        "id": "vSMX9IJEsfEG"
      },
      "execution_count": null,
      "outputs": []
    },
    {
      "cell_type": "code",
      "source": [
        "# P.69  w+ 檔案可以不存在"
      ],
      "metadata": {
        "id": "lwhwihzfsjIQ"
      },
      "execution_count": null,
      "outputs": []
    },
    {
      "cell_type": "code",
      "source": [
        "# P.70  多重選擇的條件\n",
        "\n",
        "grade = 76\n",
        "rank = 3\n",
        "\n",
        "if grade > 80 and rank >= 3:\n",
        "\tgrade += 10\n",
        "elif grade > 70 and rank > 3:\n",
        "\tgrade += 5\n",
        "else:\n",
        "\tgrade -= 5\n",
        "\n",
        "print(grade)\n"
      ],
      "metadata": {
        "id": "4EgDuV-TskqQ",
        "colab": {
          "base_uri": "https://localhost:8080/"
        },
        "outputId": "9abdaacc-f00e-4e18-92b8-3bb62012b4d6"
      },
      "execution_count": null,
      "outputs": [
        {
          "output_type": "stream",
          "name": "stdout",
          "text": [
            "71\n"
          ]
        }
      ]
    },
    {
      "cell_type": "code",
      "source": [
        "# P.71  條件式迴圈   固定次數迴圈  的語法\n",
        "\n",
        "x = \"Hello World\"\n",
        "while x != \"QUIT\":\n",
        "\tnum = 0\n",
        "\tfor char in x:\n",
        "\t\tnum += 1\n",
        "\tprint(num)\n",
        "\tx = input(\"Enter a new word or QUIT to exit: \")\n"
      ],
      "metadata": {
        "id": "tYMY0V_Ssml5",
        "colab": {
          "base_uri": "https://localhost:8080/"
        },
        "outputId": "7ce7e6e9-bd65-47ef-c811-9b4e392f639d"
      },
      "execution_count": null,
      "outputs": [
        {
          "name": "stdout",
          "output_type": "stream",
          "text": [
            "11\n",
            "Enter a new word or QUIT to exit: suyusyuyus\n",
            "10\n",
            "Enter a new word or QUIT to exit: QUIT\n"
          ]
        }
      ]
    },
    {
      "cell_type": "code",
      "source": [
        "# P.72  關係運算子"
      ],
      "metadata": {
        "id": "Y6EPF41asoRa"
      },
      "execution_count": null,
      "outputs": []
    },
    {
      "cell_type": "code",
      "source": [
        "# P.73 算數運算子\n",
        "\n",
        "x = \"oranges\"\n",
        "y= \"apples\"\n",
        "z= \"bananas\"\n",
        "data = \"{1} and {0} and {2}\"\n",
        "print(data.format(z, y, x))\n"
      ],
      "metadata": {
        "id": "jBdrkvQ0e8et"
      },
      "execution_count": null,
      "outputs": []
    },
    {
      "cell_type": "code",
      "source": [
        "# P.74  開檔案的模式與寫入資料的指令"
      ],
      "metadata": {
        "id": "sp42LL6jsqLj"
      },
      "execution_count": null,
      "outputs": []
    },
    {
      "cell_type": "code",
      "source": [
        "# P.75  if  else  雙重選擇與條件式"
      ],
      "metadata": {
        "id": "kD0Ns8Vsssfw"
      },
      "execution_count": null,
      "outputs": []
    },
    {
      "cell_type": "code",
      "source": [
        "# P.76 算數運算子的優先順序"
      ],
      "metadata": {
        "id": "Lh_fBQ8pfCpE"
      },
      "execution_count": null,
      "outputs": []
    }
  ]
}